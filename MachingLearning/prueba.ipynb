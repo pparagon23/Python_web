{
 "cells": [
  {
   "cell_type": "code",
   "execution_count": null,
   "metadata": {},
   "outputs": [],
   "source": [
    "import pandas as pd\n",
    "import numpy as np\n",
    "from matplotlib import pyplot as plt\n"
   ]
  },
  {
   "cell_type": "code",
   "execution_count": null,
   "metadata": {},
   "outputs": [],
   "source": [
    "result = pd.read_csv(\"./Data/survey_results_public.csv\", index_col=\"ResponseId\")\n",
    "resultSchema = pd.read_csv(\"./Data/survey_results_schema.csv\")"
   ]
  },
  {
   "cell_type": "code",
   "execution_count": null,
   "metadata": {},
   "outputs": [],
   "source": [
    "result.head(5)"
   ]
  },
  {
   "cell_type": "code",
   "execution_count": null,
   "metadata": {},
   "outputs": [],
   "source": [
    "languages = \"LanguageHaveWorkedWith\"\n",
    "salary = \"ConvertedCompYearly\"\n",
    "\n",
    "result.rename(columns = {languages : \"Languages\", salary : \"Salary\"}, inplace = True) ## Cambia el nombre de la columna al objeto\n",
    "\n",
    "\n",
    "result.dropna(subset=[\"Salary\",\"Languages\"], inplace = True) ## Quita los valores null o NaN\n",
    "result = result.loc [:,[\"Country\",\"Salary\",\"Languages\"]].sort_values (by=\"Salary\") ## Selecciona columnas\n",
    "\n",
    "filtro = ( (result[\"Salary\"] >= 10000) & (result[\"Salary\"] <= 3e6)) ## Variable para buscar y acotar filtros, poner bien los () en la comparacion\n",
    "result = result [filtro]\n",
    "\n",
    "\n",
    "\n",
    "#result [\"Salary\"]\n",
    "result\n"
   ]
  },
  {
   "cell_type": "code",
   "execution_count": null,
   "metadata": {},
   "outputs": [],
   "source": [
    "lg = result[\"Languages\"]\n",
    "allLanguages = []\n",
    "\n",
    "for row in lg:\n",
    "    for lang in row.split(\";\"):\n",
    "        allLanguages.append(lang)\n",
    " #       if lang in allLanguages:\n",
    " #          continue\n",
    " #      else:\n",
    " #          allLanguages.append(lang)\n",
    "\n",
    "allLanguages = list(set (allLanguages))    # ocupar esta linie para contruir la lista de un solo elemento sin el if    \n",
    "allLanguages.sort()\n",
    "#allLanguages\n",
    "\n",
    "## creacion del data frame con un indice de lenguajes y una columna de ceros con numpy \n",
    "meanSalary = pd.DataFrame (data=np.zeros(len(allLanguages)),index=allLanguages, columns=[\"Salary\"])\n",
    "meanSalary"
   ]
  },
  {
   "cell_type": "code",
   "execution_count": null,
   "metadata": {},
   "outputs": [],
   "source": [
    "#for lang in allLanguages:\n",
    "#    mask = result[\"Languages\"].str.contains(lang) ##contain se va pocicionando en cada valor del campo c, c# , etc\n",
    "#    average = result.loc[mask,\"Salary\"].mean()\n",
    "#    meanSalary.loc[lang,\"Salary\"]= average\n",
    "\n",
    "\n",
    "## se ocupa el re por que c++ dentro del dato le causa problema a pandas \n",
    "import re\n",
    "for lang in allLanguages:\n",
    "  try:  \n",
    "    ##contain se va pocicionando en cada valor del campo c, c# , etc\n",
    "    # se utiliza scape para ignorar caracteres especiales ya que si los encuentra comienza a calcular mal   \n",
    "    mask = result[\"Languages\"].str.contains(re.escape(lang)) \n",
    "    average = result.loc[mask,\"Salary\"].mean()\n",
    "    meanSalary.loc[lang,\"Salary\"]= average\n",
    "  except Exception:\n",
    "      print (lang)\n",
    "meanSalary"
   ]
  },
  {
   "cell_type": "code",
   "execution_count": null,
   "metadata": {},
   "outputs": [],
   "source": [
    "colors = [\n",
    "    \"#03071E\",\n",
    "    \"#370617\",\n",
    "    \"#6A040F\",\n",
    "    \"#9D0208\",\n",
    "    \"#D00000\",\n",
    "    \"#DC2F02\",\n",
    "    \"#E85D04\",\n",
    "    \"#F48C06\",\n",
    "    \"#FAA307\",\n",
    "    \"#FFBA08\"\n",
    "]\n",
    "\n",
    "fontdict = {\n",
    "    'family': 'serif',\n",
    "    'color':  'darkred',\n",
    "    'weight': 'normal',\n",
    "    'size': 16,\n",
    "}"
   ]
  },
  {
   "cell_type": "code",
   "execution_count": 2,
   "metadata": {},
   "outputs": [
    {
     "ename": "NameError",
     "evalue": "name 'plt' is not defined",
     "output_type": "error",
     "traceback": [
      "\u001b[0;31m---------------------------------------------------------------------------\u001b[0m",
      "\u001b[0;31mNameError\u001b[0m                                 Traceback (most recent call last)",
      "Cell \u001b[0;32mIn[2], line 5\u001b[0m\n\u001b[1;32m      2\u001b[0m get_ipython()\u001b[38;5;241m.\u001b[39mrun_line_magic(\u001b[38;5;124m'\u001b[39m\u001b[38;5;124mmatplotlib\u001b[39m\u001b[38;5;124m'\u001b[39m, \u001b[38;5;124m'\u001b[39m\u001b[38;5;124mqt5\u001b[39m\u001b[38;5;124m'\u001b[39m)\n\u001b[1;32m      4\u001b[0m \u001b[38;5;66;03m## Varios diseños seaborn buscar en google los tipos\u001b[39;00m\n\u001b[0;32m----> 5\u001b[0m \u001b[43mplt\u001b[49m\u001b[38;5;241m.\u001b[39mstyle\u001b[38;5;241m.\u001b[39muse(\u001b[38;5;124m\"\u001b[39m\u001b[38;5;124mseaborn-v0_8-colorblind\u001b[39m\u001b[38;5;124m\"\u001b[39m)\n\u001b[1;32m      7\u001b[0m meanSalary\u001b[38;5;241m.\u001b[39msort_values(by\u001b[38;5;241m=\u001b[39m\u001b[38;5;124m\"\u001b[39m\u001b[38;5;124mSalary\u001b[39m\u001b[38;5;124m\"\u001b[39m,inplace\u001b[38;5;241m=\u001b[39m\u001b[38;5;28;01mTrue\u001b[39;00m)\n\u001b[1;32m      8\u001b[0m plt\u001b[38;5;241m.\u001b[39mbarh(meanSalary\u001b[38;5;241m.\u001b[39mindex,meanSalary[\u001b[38;5;124m\"\u001b[39m\u001b[38;5;124mSalary\u001b[39m\u001b[38;5;124m\"\u001b[39m],color\u001b[38;5;241m=\u001b[39mcolors)\n",
      "\u001b[0;31mNameError\u001b[0m: name 'plt' is not defined"
     ]
    }
   ],
   "source": [
    "#imprimir en poppout qt5 si se quita la linea se imprime en jupiter aqui mismo\n",
    "%matplotlib qt5 \n",
    "\n",
    "## Varios diseños seaborn buscar en google los tipos\n",
    "plt.style.use(\"seaborn-v0_8-colorblind\")\n",
    "\n",
    "meanSalary.sort_values(by=\"Salary\",inplace=True)\n",
    "plt.barh(meanSalary.index,meanSalary[\"Salary\"],color=colors)\n",
    "\n",
    "# promedio de sueldo de todos y ordenar\n",
    "plt.vlines(meanSalary[\"Salary\"].mean(),0, len(meanSalary[\"Salary\"]),colors= \"red\",linestyles=\"dashed\",label=\"Mean Salary\")  \n",
    "plt.title(\"Programing Languages Yearly Compensation\")\n",
    "plt.xlabel(\"Mean Salary in $\")\n",
    "plt.ylabel(\"Programing languages\")\n",
    "\n",
    "## Agregar el signo de dolar a cada valor del monto\n",
    "plt.gca().xaxis.set_major_formatter('${x:1.0f}') \n",
    "plt.legend()\n",
    "\n",
    " ##Espaciado en grafico\n",
    "plt.tight_layout() \n",
    "plt.show"
   ]
  }
 ],
 "metadata": {
  "kernelspec": {
   "display_name": ".venv",
   "language": "python",
   "name": "python3"
  },
  "language_info": {
   "codemirror_mode": {
    "name": "ipython",
    "version": 3
   },
   "file_extension": ".py",
   "mimetype": "text/x-python",
   "name": "python",
   "nbconvert_exporter": "python",
   "pygments_lexer": "ipython3",
   "version": "3.12.2"
  }
 },
 "nbformat": 4,
 "nbformat_minor": 2
}
