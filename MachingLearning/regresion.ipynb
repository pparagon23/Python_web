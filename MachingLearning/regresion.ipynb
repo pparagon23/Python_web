{
 "cells": [
  {
   "cell_type": "code",
   "execution_count": 4,
   "metadata": {},
   "outputs": [],
   "source": [
    "import pandas as pd\n",
    "from sklearn.model_selection import train_test_split\n",
    "from sklearn.linear_model import LinearRegression\n",
    "\n",
    "#cargar dataset \n",
    "data=pd.read_csv(\"../Data/Salary_Data.csv\")\n",
    "\n",
    "#Separar Caracteristicas y el target \n",
    "X = data[[\"YearsExperience\"]]\n",
    "Y = data[[\"Salary\"]]\n",
    "\n",
    "#Dividir por prueba y entretenimiento \n",
    "X_train, X_test, Y_train, Y_test = train_test_split(X,Y,test_size=0.2)\n",
    "\n",
    "#Crear el modelo de regesion lineal\n",
    "model = LinearRegression\n",
    "model.fit(X_train,Y_train)\n",
    "\n",
    "#Hacer prdicciones sobre el conjunto de pruebas\n",
    "Y_pred = model.predict(X_test)\n",
    "\n",
    "#Calcular metricas de rendimiento \n",
    "#Error Cuadratico\n",
    "EC = ((Y_test-Y_pred)**2).sum()\n",
    "\n",
    "#Error cuadratico medio\n",
    "ECM = EC /len(Y_test)  \n",
    "\n",
    "#Raiz del error cuadratico medio\n",
    "RMSE = ECM ** 0.5\n",
    "\n",
    "#Error absoluto medio\n",
    "EAM = abs(Y_test - Y_pred).mean()\n",
    "\n",
    "#Coeficiente de determinacion  R^2\n",
    "residuos = Y_test - Y_pred\n",
    "explained_variance = residuos.var()\n",
    "total_variance = Y_test.var()\n",
    "R2 = 1 - (explained_variance/total_variance)\n",
    "\n",
    "print (\"EC: \",EC[0])\n",
    "print (\"ECM: \", ECM[0])\n",
    "print (\"RMSE: \",RMSE[0])\n",
    "print (\"EAM: \",EAM[0])\n",
    "print (\"R^2: \",R2[0])\n"
   ]
  }
 ],
 "metadata": {
  "kernelspec": {
   "display_name": ".venv",
   "language": "python",
   "name": "python3"
  },
  "language_info": {
   "codemirror_mode": {
    "name": "ipython",
    "version": 3
   },
   "file_extension": ".py",
   "mimetype": "text/x-python",
   "name": "python",
   "nbconvert_exporter": "python",
   "pygments_lexer": "ipython3",
   "version": "3.12.2"
  }
 },
 "nbformat": 4,
 "nbformat_minor": 2
}
